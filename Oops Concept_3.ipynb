{
 "cells": [
  {
   "cell_type": "code",
   "execution_count": 7,
   "metadata": {},
   "outputs": [],
   "source": [
    "class Tyres:\n",
    "    def __init__(self,branch,belted_bias,opt_pressure):\n",
    "        self.branch=branch\n",
    "        self.belted_bias=belted_bias\n",
    "        self.opt_pressure=opt_pressure\n",
    "        "
   ]
  },
  {
   "cell_type": "code",
   "execution_count": null,
   "metadata": {},
   "outputs": [
    {
     "name": "stdout",
     "output_type": "stream",
     "text": [
      "enter no of students5\n",
      "student1:Geetha\n",
      "surname:ERAVELLI\n",
      "year_of_birth:2000\n",
      "which cls:5\n",
      "school_name:Kerala School\n",
      "student1:Sai\n",
      "surname:Kumar\n",
      "year_of_birth:1990\n",
      "which cls:Degree\n",
      "school_name:Sircilla\n"
     ]
    }
   ],
   "source": [
    "\n",
    "class Student():\n",
    "    def __init__(self,name,surname,year_of_birth,cls):\n",
    "        self.name=input('student1:')\n",
    "        self.surname=input('surname:')\n",
    "        self.year_of_birth=input('year_of_birth:')\n",
    "        self.cls=input('which cls:')\n",
    "class School(Student):\n",
    "    def __init__(self,school_name,*args):\n",
    "        super(School,self).__init__(*args)\n",
    "        self.school_name=input('school_name:')\n",
    "        \n",
    "    def __str__(self):\n",
    "        return self.school_name,self.name,self.surname,self.year_of_birth,self.cls\n",
    "\n",
    "no_of_stud=int(input('enter no of students'))\n",
    "for i in range(no_of_stud):\n",
    "    alex=School('fad','fgr','fgh',2000,'2')\n",
    "    \n",
    "    "
   ]
  },
  {
   "cell_type": "code",
   "execution_count": null,
   "metadata": {},
   "outputs": [],
   "source": [
    "#Files"
   ]
  },
  {
   "cell_type": "code",
   "execution_count": 29,
   "metadata": {},
   "outputs": [
    {
     "name": "stdout",
     "output_type": "stream",
     "text": [
      "Overwriting Desktop/test.txt\n"
     ]
    }
   ],
   "source": [
    "%%writefile Desktop/test.txt\n",
    "Hello\n",
    "first line\n",
    "second line\n",
    "third line"
   ]
  },
  {
   "cell_type": "code",
   "execution_count": 30,
   "metadata": {},
   "outputs": [
    {
     "data": {
      "text/plain": [
       "'C:\\\\Users\\\\ejasm'"
      ]
     },
     "execution_count": 30,
     "metadata": {},
     "output_type": "execute_result"
    }
   ],
   "source": [
    "pwd()"
   ]
  },
  {
   "cell_type": "code",
   "execution_count": 31,
   "metadata": {},
   "outputs": [],
   "source": [
    "my_file=open('Desktop/test.txt')"
   ]
  },
  {
   "cell_type": "code",
   "execution_count": 32,
   "metadata": {},
   "outputs": [
    {
     "data": {
      "text/plain": [
       "'Hello\\nfirst line\\nsecond line\\nthird line\\n'"
      ]
     },
     "execution_count": 32,
     "metadata": {},
     "output_type": "execute_result"
    }
   ],
   "source": [
    "my_file.read()"
   ]
  },
  {
   "cell_type": "code",
   "execution_count": 33,
   "metadata": {},
   "outputs": [
    {
     "name": "stdout",
     "output_type": "stream",
     "text": [
      "Hello\n",
      "\n",
      "first line\n",
      "\n",
      "second line\n",
      "\n",
      "third line\n",
      "\n"
     ]
    }
   ],
   "source": [
    "for line in open('Desktop/test.txt'):\n",
    "    print(line)"
   ]
  },
  {
   "cell_type": "code",
   "execution_count": 26,
   "metadata": {},
   "outputs": [
    {
     "data": {
      "text/plain": [
       "0"
      ]
     },
     "execution_count": 26,
     "metadata": {},
     "output_type": "execute_result"
    }
   ],
   "source": [
    "my_file.seek(0)"
   ]
  },
  {
   "cell_type": "code",
   "execution_count": 34,
   "metadata": {},
   "outputs": [
    {
     "name": "stdout",
     "output_type": "stream",
     "text": [
      "Hello\n",
      "\n",
      "first line\n",
      "\n",
      "second line\n",
      "\n",
      "third line\n",
      "\n"
     ]
    }
   ],
   "source": [
    "for l in open('Desktop/test.txt'):\n",
    "    print(l)"
   ]
  },
  {
   "cell_type": "code",
   "execution_count": 35,
   "metadata": {},
   "outputs": [],
   "source": [
    "# Stringio"
   ]
  },
  {
   "cell_type": "code",
   "execution_count": 2,
   "metadata": {},
   "outputs": [],
   "source": [
    "import pandas as pd\n",
    "from io import StringIO"
   ]
  },
  {
   "cell_type": "code",
   "execution_count": null,
   "metadata": {},
   "outputs": [],
   "source": []
  }
 ],
 "metadata": {
  "kernelspec": {
   "display_name": "Python 3",
   "language": "python",
   "name": "python3"
  },
  "language_info": {
   "codemirror_mode": {
    "name": "ipython",
    "version": 3
   },
   "file_extension": ".py",
   "mimetype": "text/x-python",
   "name": "python",
   "nbconvert_exporter": "python",
   "pygments_lexer": "ipython3",
   "version": "3.8.5"
  }
 },
 "nbformat": 4,
 "nbformat_minor": 4
}
