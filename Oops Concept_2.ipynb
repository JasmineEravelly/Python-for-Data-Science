{
 "cells": [
  {
   "cell_type": "code",
   "execution_count": 1,
   "metadata": {},
   "outputs": [],
   "source": [
    "class Person:\n",
    "    def __init__(self,name,surname,dob):\n",
    "        self.name=name\n",
    "        self.surname=surname\n",
    "        self.dob=dob\n",
    "    def age(self,current_year):\n",
    "    \n",
    "        return current_year-self.dob\n",
    "    def __str__(self):\n",
    "        return (\"%s %s was born in %d.\"% (self.name,self.surname,self.dob))\n",
    "    "
   ]
  },
  {
   "cell_type": "code",
   "execution_count": 2,
   "metadata": {},
   "outputs": [
    {
     "name": "stdout",
     "output_type": "stream",
     "text": [
      "Alex eravelly was born in 2000.\n",
      "20\n"
     ]
    }
   ],
   "source": [
    "alen=Person('Alex','eravelly',2000)\n",
    "\n",
    "print(alen)\n",
    "print(alen.age(2020))\n"
   ]
  },
  {
   "cell_type": "code",
   "execution_count": 3,
   "metadata": {},
   "outputs": [
    {
     "name": "stdout",
     "output_type": "stream",
     "text": [
      "2000\n"
     ]
    }
   ],
   "source": [
    "print(alen.dob)"
   ]
  },
  {
   "cell_type": "code",
   "execution_count": 4,
   "metadata": {},
   "outputs": [
    {
     "name": "stdout",
     "output_type": "stream",
     "text": [
      "smith hone was born in 2001.\n",
      "chales Groz was born in 1999.\n",
      "1\n",
      "charlie Brown was born in 2000.\n",
      "<class '__main__.Student'>\n",
      "True\n",
      "True\n"
     ]
    }
   ],
   "source": [
    "class Student(Person):\n",
    "    def __init__(self,student_id,*args):\n",
    "        super(Student,self).__init__(*args)\n",
    "        self.student_id=student_id\n",
    "        \n",
    "smith=Person('smith','hone',2001)\n",
    "print(smith)\n",
    "charlie=Student(1,'charlie','Brown',2000)\n",
    "charles=Student(2,'chales','Groz',1999)\n",
    "print(charles)\n",
    "print(charlie.student_id)\n",
    "print(charlie)\n",
    "print(type(charlie))\n",
    "print(isinstance(charlie,Person))\n",
    "print(isinstance(charles,Student))"
   ]
  },
  {
   "cell_type": "code",
   "execution_count": null,
   "metadata": {},
   "outputs": [],
   "source": []
  },
  {
   "cell_type": "code",
   "execution_count": null,
   "metadata": {},
   "outputs": [],
   "source": []
  }
 ],
 "metadata": {
  "kernelspec": {
   "display_name": "Python 3",
   "language": "python",
   "name": "python3"
  },
  "language_info": {
   "codemirror_mode": {
    "name": "ipython",
    "version": 3
   },
   "file_extension": ".py",
   "mimetype": "text/x-python",
   "name": "python",
   "nbconvert_exporter": "python",
   "pygments_lexer": "ipython3",
   "version": "3.8.5"
  }
 },
 "nbformat": 4,
 "nbformat_minor": 4
}
